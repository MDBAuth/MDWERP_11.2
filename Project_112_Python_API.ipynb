{
 "cells": [
  {
   "cell_type": "markdown",
   "id": "e404de9a",
   "metadata": {},
   "source": [
    "# MD-WERP Strategic Project 11.2\n"
   ]
  },
  {
   "cell_type": "markdown",
   "id": "9286163e",
   "metadata": {},
   "source": [
    "Requirements:\n",
    "\n",
    "Need a Google Earth Engine login, subject to their Terms and Conditions"
   ]
  },
  {
   "cell_type": "code",
   "execution_count": null,
   "id": "dc7ac665",
   "metadata": {},
   "outputs": [],
   "source": [
    "# !pip install earthengine-api --upgrade"
   ]
  },
  {
   "cell_type": "markdown",
   "id": "c34097a7",
   "metadata": {},
   "source": [
    "## Import modules"
   ]
  },
  {
   "cell_type": "code",
   "execution_count": null,
   "id": "f6d6ea69",
   "metadata": {},
   "outputs": [],
   "source": [
    "import ee\n",
    "import folium\n",
    "import time"
   ]
  },
  {
   "cell_type": "markdown",
   "id": "c78462ed",
   "metadata": {},
   "source": [
    "## Connect to Google Earth Engine"
   ]
  },
  {
   "cell_type": "code",
   "execution_count": null,
   "id": "295f84fd",
   "metadata": {},
   "outputs": [],
   "source": [
    "ee.Authenticate()\n",
    "ee.Initialize()"
   ]
  },
  {
   "cell_type": "markdown",
   "id": "9ac23582",
   "metadata": {},
   "source": [
    "## Define user variables"
   ]
  },
  {
   "cell_type": "markdown",
   "id": "9060bfd7",
   "metadata": {},
   "source": [
    "Import datasets"
   ]
  },
  {
   "cell_type": "code",
   "execution_count": null,
   "id": "7676aa83",
   "metadata": {},
   "outputs": [],
   "source": [
    "bounds = ee.FeatureCollection('users/Projects/Hunt/Darling_ANAEv3_LM_1000m_diss').geometry()"
   ]
  },
  {
   "cell_type": "markdown",
   "id": "724fd274",
   "metadata": {},
   "source": [
    "Set user defined variables"
   ]
  },
  {
   "cell_type": "code",
   "execution_count": null,
   "id": "e73390fe",
   "metadata": {},
   "outputs": [],
   "source": [
    "# Test mode\n",
    "test_mode = 'no' # yes to not submit tasks, no to submit tasks\n",
    "\n",
    "# Set date range \n",
    "start_date = 2022\n",
    "end_date = 2023\n",
    "\n",
    "# Set parameters for Image Collections\n",
    "index = 'mndwi'\n",
    "threshold = 0 # water index threshold\n",
    "cloud_percent = 20\n",
    "collection = 'landsat'\n",
    "slc_data = 'no' # yes for include data, no for through affected data away\n",
    "clip_edges = 'yes' # yes to clip by 6km, no to not\n",
    "\n",
    "# This code should be monthly only, but you can do year and day\n",
    "timeframe = ee.String('month') \n",
    "advance_overlap = 1 \n",
    "\n",
    "# Set export variables\n",
    "code_output = 'water_persistence' # monthly_water or water_persistence\n",
    "image = 'percent' # Choose from 'percent', 'clear_count' or 'water_count'\n",
    "bucket = 'sharebucketgee'\n",
    "maxPixels = 1e13\n",
    "crs = 'EPSG:32654'\n",
    "crsTransform = [30, 0, 564285, 0, -30, -3395385]\n",
    "fileNamePrefix = 'MDWERP112/January_2023/'#'MDWERP11/Project_112/Persistence_summaries/' #'Project_112/'\n",
    "\n",
    "# Import collections\n",
    "l9 = ee.ImageCollection(\"LANDSAT/LC09/C02/T1_L2\")\n",
    "l8 = ee.ImageCollection(\"LANDSAT/LC08/C02/T1_L2\")\n",
    "l7 = ee.ImageCollection(\"LANDSAT/LE07/C02/T1_L2\")\n",
    "l5 = ee.ImageCollection(\"LANDSAT/LT05/C02/T1_L2\")"
   ]
  },
  {
   "cell_type": "markdown",
   "id": "83e8bc8c",
   "metadata": {},
   "source": [
    "## Define functions"
   ]
  },
  {
   "cell_type": "code",
   "execution_count": null,
   "id": "4cf82db5",
   "metadata": {},
   "outputs": [],
   "source": [
    "# Define a function to scale the data and mask unwanted pixels.\n",
    "def maskL457sr(image):\n",
    "    '''\n",
    "    maskL457sr from https://developers.google.com/earth-engine/guides/ic_visualization\n",
    "    '''\n",
    "    # Bit 0 - Fill\n",
    "    # Bit 1 - Dilated Cloud\n",
    "    # Bit 2 - Unused\n",
    "    # Bit 3 - Cloud\n",
    "    # Bit 4 - Cloud Shadow\n",
    "    qaMask = image.select('QA_PIXEL').bitwiseAnd(int('11111', 2)).eq(0)\n",
    "    saturationMask = image.select('QA_RADSAT').eq(0)\n",
    "\n",
    "    # Apply the scaling factors to the appropriate bands.\n",
    "    # opticalBands = image.select('SR_B.').multiply(0.0000275).add(-0.2)\n",
    "    # thermalBand = image.select('ST_B6').multiply(0.00341802).add(149.0)\n",
    "    opticalBands = image.select('SR_B.').multiply(0.0000275).add(-0.2)\n",
    "    thermalBands = image.select('ST_B.*').multiply(0.00341802).add(149.0)\n",
    "\n",
    "    # Replace the original bands with the scaled ones and apply the masks.\n",
    "    return image.addBands(opticalBands, None, True)\\\n",
    "        .addBands(thermalBands, None, True)\\\n",
    "        .updateMask(qaMask)\\\n",
    "        .updateMask(saturationMask)\n",
    "\n",
    "# Landsat 8 and 9\n",
    "def renameBands89(img):\n",
    "    return img.select(['SR_B2','SR_B3','SR_B4','SR_B5','SR_B6','SR_B7']).rename(['blue','green','red','nir','swir1','swir2'])\n",
    "\n",
    "# Landsat (4), 5 and 7\n",
    "def renameBands57(img):\n",
    "    return img.select(['SR_B1','SR_B2','SR_B3','SR_B4','SR_B5','SR_B7']).rename(['blue','green','red','nir','swir1','swir2'])\n",
    "\n",
    "# Function to clip edges of Landsat\n",
    "def clipEdges(img):\n",
    "    return img.clip(img.geometry().buffer(-6000))\n",
    "\n",
    "# Function to add MNDWI\n",
    "def addMNDWI(image):\n",
    "    b1 = image.select('green')\n",
    "    b2 = image.select('swir1')\n",
    "    new_band = b1.subtract(b2).divide(b1.add(b2)).rename('mndwi')\n",
    "    return image.addBands(new_band)\n",
    "\n",
    "# Function to keep only water\n",
    "def onlyW(image):\n",
    "    water = image.select(index).gt(threshold).rename('water')\n",
    "    return image.addBands(water).selfMask()\n",
    "\n",
    "# Function to keep only clear\n",
    "def onlyClear(image):\n",
    "    clear = image.select('red').gt(0).rename('clear')\n",
    "    return image.addBands(clear).selfMask()\n",
    "\n",
    "# Funciton to mask bad pixels\n",
    "def maskBad(image):\n",
    "    bad_mask = image.select(['blue','green','red','nir','swir1','swir2'])\\\n",
    "                    .reduce(ee.Reducer.min())\\\n",
    "                    .gt(0)\n",
    "    return image.mask(bad_mask)"
   ]
  },
  {
   "cell_type": "markdown",
   "id": "bc0635b7",
   "metadata": {},
   "source": [
    "## Process the images"
   ]
  },
  {
   "cell_type": "markdown",
   "id": "1f70d807",
   "metadata": {},
   "source": [
    "### Export monthly water images"
   ]
  },
  {
   "cell_type": "code",
   "execution_count": null,
   "id": "0bbc6f3a",
   "metadata": {},
   "outputs": [],
   "source": [
    "if code_output == 'monthly_water':\n",
    "    ### Set up datelist to loop through\n",
    "    years = list(range(start_date,end_date))\n",
    "\n",
    "    for year in years:\n",
    "\n",
    "        # User variables\n",
    "        start = str(year)+'-01-01'\n",
    "        end = str(year+1)+'-01-01'\n",
    "        print(start,end)\n",
    "\n",
    "        try:\n",
    "            # Do collection specific mapping\n",
    "            l5c = l5.map(maskL457sr).map(renameBands57)\n",
    "            if slc_data == 'yes':\n",
    "                l7c = l7.map(maskL457sr).map(renameBands57)\n",
    "            elif slc_data == 'no':\n",
    "                l7c = l7.map(maskL457sr).map(renameBands57).filterDate('1999-01-01','2003-05-31') # Remove SLC error affected images\n",
    "            l8c = l8.map(maskL457sr).map(renameBands89)\n",
    "            l9c = l9.map(maskL457sr).map(renameBands89)\n",
    "            if clip_edges == 'yes':\n",
    "                col = (l5c.map(clipEdges)).merge(l7c.map(clipEdges)).merge(l8c).merge(l9c)\\\n",
    "                         .filterDate(start,end)\\\n",
    "                         .filterBounds(bounds)\\\n",
    "                         .filter(ee.Filter.lt('CLOUD_COVER',cloud_percent))\\\n",
    "                         .map(addMNDWI)\\\n",
    "                         .map(maskBad)\n",
    "            elif clip_edges == 'no':\n",
    "                col = l5c.merge(l7c).merge(l8c).merge(l9c)\\\n",
    "                         .filterDate(start,end)\\\n",
    "                         .filterBounds(bounds)\\\n",
    "                         .filter(ee.Filter.lt('CLOUD_COVER',cloud_percent))\\\n",
    "                         .map(addMNDWI)\\\n",
    "                         .map(maskBad)\n",
    "            \n",
    "\n",
    "            #################################################################\n",
    "            #/ Monthly water presence #/\n",
    "\n",
    "\n",
    "            if code_output == 'monthly_water':\n",
    "                # Run this\n",
    "\n",
    "                #Filter collection and apply functions - water and count\n",
    "                daily_mosaics = col.map(onlyW)\\\n",
    "                                       .map(onlyClear)\n",
    "\n",
    "                # Now we need the make monthly summaries\n",
    "                # Filter for each month, sum, and then sum over the basin\n",
    "                start = ee.Date(start)\n",
    "                end = ee.Date(end)\n",
    "                months = end.difference(start, timeframe)\n",
    "                datelist = ee.List.sequence(0, months.int()).map(lambda count: start.advance(count, timeframe))\n",
    "\n",
    "                # This function creates a list of images\n",
    "                def makeDatelist(d):\n",
    "                    begin = ee.Date(d)\n",
    "                    end = begin.advance(advance_overlap, timeframe)\n",
    "                    imgcol = daily_mosaics.filterDate(begin, end)\n",
    "                    monthsum= imgcol.reduce(ee.Reducer.max())\\\n",
    "                                    .set({'date':begin}) # Set date\n",
    "                    return monthsum\n",
    "                dummy = datelist.map(makeDatelist)\n",
    "\n",
    "                # Turn list into image collection\n",
    "                col = ee.ImageCollection(dummy)\n",
    "\n",
    "\n",
    "                # Get rid of empty images\n",
    "                c = col.map(lambda img: img.set('count', img.bandNames().length()))\\\n",
    "                       .filter(ee.Filter.gt('count', 0))\n",
    "\n",
    "                # Function to get clear (1) and water (2)\n",
    "                def getStats(image):\n",
    "                    stats = image.select('water_max')\\\n",
    "                                 .unmask()\\\n",
    "                                 .add(image.select('clear_max').unmask())\\\n",
    "                                 .rename('stats')\\\n",
    "                                 .clip(bounds)\n",
    "                    return image.addBands(stats).select('stats')\n",
    "\n",
    "                # Apply function to get 'stats'\n",
    "                new_stats = c.map(getStats)\n",
    "\n",
    "                # Convert image collection to list\n",
    "                im_list = new_stats.toList(new_stats.size())\n",
    "\n",
    "                # Create list which is the length of the image collection\n",
    "                imageNames = ee.List.sequence(0,im_list.length().subtract(1),1)\n",
    "                plain_list = imageNames.getInfo()\n",
    "\n",
    "                for i in plain_list:\n",
    "                    img = ee.Image(im_list.get(i))\n",
    "                    description = code_output+'_'+image+'_'+collection+'_'+index+'_gt'+str(threshold)+'_cplt_' +str(cloud_percent)\\\n",
    "                    +'_slc_'+str(slc_data)+'_clip57_'+str(clip_edges)+'_'+ee.Date(img.get('date')).format('YYYYMMdd').getInfo()\n",
    "                    task = ee.batch.Export.image.toCloudStorage(image= img.clip(bounds),\n",
    "                                                                description= description, \n",
    "                                                                bucket= bucket,\n",
    "                                                                region= bounds,\n",
    "                                                                crs=crs, \n",
    "                                                                crsTransform=crsTransform,\n",
    "                                                                maxPixels= maxPixels,\n",
    "                                                                skipEmptyTiles= True,\n",
    "                                                                fileNamePrefix= 'Python_API/'+fileNamePrefix+description,\n",
    "                                                                fileFormat= 'GeoTIFF')\n",
    "                    if test_mode == 'yes':\n",
    "                        pass\n",
    "                    elif test_mode == 'no':\n",
    "                        task.start()\n",
    "                    print(f'Submitting {description}')\n",
    "            time.sleep(30*60)\n",
    "        except Exception as e:\n",
    "            print('Problem with the export')\n",
    "            print(e)  \n"
   ]
  },
  {
   "cell_type": "markdown",
   "id": "bc3f1f7d",
   "metadata": {},
   "source": [
    "Check progress in the [Task Manager](https://code.earthengine.google.com/tasks)"
   ]
  },
  {
   "cell_type": "code",
   "execution_count": null,
   "id": "71bad8de",
   "metadata": {},
   "outputs": [],
   "source": [
    "# # Kill all tasks in emergency\n",
    "# for task in ee.batch.Task.list():\n",
    "#     task.cancel()"
   ]
  },
  {
   "cell_type": "markdown",
   "id": "9a41293c",
   "metadata": {},
   "source": [
    "### Export water persistence summaries"
   ]
  },
  {
   "cell_type": "code",
   "execution_count": null,
   "id": "c24c8a69",
   "metadata": {},
   "outputs": [],
   "source": [
    "if code_output == 'water_persistence':\n",
    "    \n",
    "    start = str(start_date)+'-01-01'\n",
    "    end = str(end_date+1)+'-01-01'\n",
    "\n",
    "    # Do collection specific mapping\n",
    "    l5c = l5.map(maskL457sr).map(renameBands57)\n",
    "    if slc_data == 'yes':\n",
    "        l7c = l7.map(maskL457sr).map(renameBands57)\n",
    "    elif slc_data == 'no':\n",
    "        l7c = l7.map(maskL457sr).map(renameBands57).filterDate('1999-01-01','2003-05-31') # Remove SLC error affected images\n",
    "    l8c = l8.map(maskL457sr).map(renameBands89)\n",
    "    l9c = l9.map(maskL457sr).map(renameBands89)\n",
    "    if clip_edges == 'yes':\n",
    "        col = (l5c.map(clipEdges)).merge(l7c.map(clipEdges)).merge(l8c).merge(l9c)\\\n",
    "                 .filterDate(start,end)\\\n",
    "                 .filterBounds(bounds)\\\n",
    "                 .filter(ee.Filter.lt('CLOUD_COVER',cloud_percent))\\\n",
    "                 .map(addMNDWI)\\\n",
    "                 .map(maskBad)\n",
    "    elif clip_edges == 'no':\n",
    "        col = l5c.merge(l7c).merge(l8c).merge(l9c)\\\n",
    "                 .filterDate(start,end)\\\n",
    "                 .filterBounds(bounds)\\\n",
    "                 .filter(ee.Filter.lt('CLOUD_COVER',cloud_percent))\\\n",
    "                 .map(addMNDWI)\\\n",
    "                 .map(maskBad)\n",
    "\n",
    "    string_start = ee.Date(col.first().date()).format('YYYYMMdd').getInfo()\n",
    "    string_end = ee.Date(col.sort('system:time_start',False).first().date()).format('YYYYMMdd').getInfo()\n",
    "\n",
    "    ### Run this\n",
    "    description = code_output+'_'+image+'_'+collection+'_'+index+'_gt'+str(threshold)+'_cplt_' +str(cloud_percent)\\\n",
    "                  +'_slc_'+str(slc_data)+'_clip57_'+str(clip_edges)+string_start+'_'+string_end\n",
    "\n",
    "    ### Filter collection and apply functions - water\n",
    "    water_mosaics = col.map(onlyW)\\\n",
    "                       .select('water')\n",
    "\n",
    "    ### Filter collection and apply functions - count (using B3)\n",
    "    count_mosaics = col.map(onlyClear)\\\n",
    "                       .select('clear')\n",
    "\n",
    "    ###  Calculate percent of inundated (water/total observations)*100\n",
    "    water = water_mosaics.count()\n",
    "    count = count_mosaics.count()\n",
    "    proportion = water.divide(count)\n",
    "    percent= proportion.multiply(100)\n",
    "\n",
    "    ###  Export water persistence\n",
    "    ###  MNDWI gt 0 and gt 0.1\n",
    "    ###  % gte 50, 60, 70, 80, 90 - wait no, they can just threshold it in arc\n",
    "    ###  Export water persistence image\n",
    "    task = ee.batch.Export.image.toCloudStorage(image=percent.clip(bounds),\n",
    "                                        description= description, \n",
    "                                        bucket= bucket,\n",
    "                                        region= bounds,\n",
    "                                        crs=crs, \n",
    "                                        crsTransform=crsTransform,\n",
    "                                        maxPixels= maxPixels,\n",
    "                                        skipEmptyTiles= True,\n",
    "                                        fileNamePrefix= 'Python_API/'+fileNamePrefix+description,\n",
    "                                        fileFormat= 'GeoTIFF')\n",
    "    if test_mode == 'yes':\n",
    "        pass\n",
    "    elif test_mode == 'no':\n",
    "        task.start()\n",
    "    print(f'Submitting {description}')\n"
   ]
  }
 ],
 "metadata": {
  "kernel_info": {
   "name": "python3"
  },
  "kernelspec": {
   "display_name": "Python 3",
   "language": "python",
   "name": "python3"
  },
  "language_info": {
   "codemirror_mode": {
    "name": "ipython",
    "version": 3
   },
   "file_extension": ".py",
   "mimetype": "text/x-python",
   "name": "python",
   "nbconvert_exporter": "python",
   "pygments_lexer": "ipython3",
   "version": "3.6.9"
  },
  "nteract": {
   "version": "nteract-front-end@1.0.0"
  }
 },
 "nbformat": 4,
 "nbformat_minor": 5
}
